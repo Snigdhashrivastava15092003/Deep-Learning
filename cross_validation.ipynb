{
  "nbformat": 4,
  "nbformat_minor": 0,
  "metadata": {
    "colab": {
      "provenance": []
    },
    "kernelspec": {
      "name": "python3",
      "display_name": "Python 3"
    },
    "language_info": {
      "name": "python"
    }
  },
  "cells": [
    {
      "cell_type": "code",
      "execution_count": 2,
      "metadata": {
        "colab": {
          "base_uri": "https://localhost:8080/"
        },
        "id": "l8qgRxJJuq_E",
        "outputId": "ed8cdc1b-39a4-4db1-df16-a7203e26b3f7"
      },
      "outputs": [
        {
          "output_type": "stream",
          "name": "stdout",
          "text": [
            "Cross-Validation Accuracy: 0.7654804706573486\n",
            "5/5 [==============================] - 0s 3ms/step - loss: 0.5609 - accuracy: 0.7403\n",
            "Test Accuracy: 0.7402597665786743\n"
          ]
        }
      ],
      "source": [
        "import pandas as pd\n",
        "from sklearn.model_selection import train_test_split\n",
        "from sklearn.preprocessing import StandardScaler\n",
        "import tensorflow as tf\n",
        "from tensorflow.keras.models import Sequential\n",
        "from tensorflow.keras.layers import Dense, Dropout\n",
        "from sklearn.model_selection import StratifiedKFold\n",
        "import numpy as np\n",
        "\n",
        "#  Load the Dataset\n",
        "data = pd.read_csv(\"diabetes2.0.csv\")\n",
        "\n",
        "#  Preprocess the Data\n",
        "\n",
        "target_column = 'target'\n",
        "if target_column not in data.columns:\n",
        "    target_column = data.columns[-1]\n",
        "\n",
        "X = data.drop(target_column, axis=1)\n",
        "y = data[target_column]\n",
        "\n",
        "scaler = StandardScaler()\n",
        "X_scaled = scaler.fit_transform(X)\n",
        "\n",
        "#  Split the Data\n",
        "X_train, X_test, y_train, y_test = train_test_split(X_scaled, y, test_size=0.2, random_state=42)\n",
        "\n",
        "#  Define ANN Model Function\n",
        "def create_model():\n",
        "    model = Sequential([\n",
        "        Dense(64, activation='relu', input_shape=(X_train.shape[1],)),\n",
        "        Dropout(0.2),\n",
        "        Dense(32, activation='relu'),\n",
        "        Dense(1, activation='sigmoid')\n",
        "    ])\n",
        "    model.compile(optimizer='adam', loss='binary_crossentropy', metrics=['accuracy'])\n",
        "    return model\n",
        "\n",
        "#  Cross-Validation\n",
        "kfold = StratifiedKFold(n_splits=5, shuffle=True, random_state=42)\n",
        "cv_scores = []\n",
        "\n",
        "for train, val in kfold.split(X_train, y_train):\n",
        "    model = create_model()\n",
        "    model.fit(X_train[train], y_train.iloc[train], epochs=50, batch_size=32, verbose=0)\n",
        "    scores = model.evaluate(X_train[val], y_train.iloc[val], verbose=0)\n",
        "    cv_scores.append(scores[1])\n",
        "\n",
        "#  Evaluate the Model\n",
        "print(\"Cross-Validation Accuracy:\", np.mean(cv_scores))\n",
        "\n",
        "#  Evaluate on Test Set\n",
        "final_model = create_model()\n",
        "final_model.fit(X_train, y_train, epochs=50, batch_size=32, verbose=0)\n",
        "test_loss, test_accuracy = final_model.evaluate(X_test, y_test)\n",
        "print(\"Test Accuracy:\", test_accuracy)\n"
      ]
    }
  ]
}