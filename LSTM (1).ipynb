{
  "nbformat": 4,
  "nbformat_minor": 0,
  "metadata": {
    "colab": {
      "provenance": []
    },
    "kernelspec": {
      "name": "python3",
      "display_name": "Python 3"
    },
    "language_info": {
      "name": "python"
    }
  },
  "cells": [
    {
      "cell_type": "markdown",
      "source": [
        "### Develop LSTM Models For Univariate Time Series Forecasting"
      ],
      "metadata": {
        "id": "H_b34-4u9NBL"
      }
    },
    {
      "cell_type": "code",
      "execution_count": 3,
      "metadata": {
        "id": "AaQyXcdN9EHc"
      },
      "outputs": [],
      "source": [
        "import numpy as np\n",
        "from tensorflow.keras.models import Sequential\n",
        "from tensorflow.keras.layers import LSTM\n",
        "from tensorflow.keras.layers import Dense\n",
        "from tensorflow.keras.layers import Flatten"
      ]
    },
    {
      "cell_type": "code",
      "source": [
        "def prepare_data(timeseries_data, n_features):\n",
        "\tX, y =[],[]\n",
        "\tfor i in range(len(timeseries_data)):\n",
        "\t\t# find the end of this pattern\n",
        "\t\tend_ix = i + n_features\n",
        "\t\t# check if we are beyond the sequence\n",
        "\t\tif end_ix > len(timeseries_data)-1:\n",
        "\t\t\tbreak\n",
        "\t\t# gather input and output parts of the pattern\n",
        "\t\tseq_x, seq_y = timeseries_data[i:end_ix], timeseries_data[end_ix]\n",
        "\t\tX.append(seq_x)\n",
        "\t\ty.append(seq_y)\n",
        "\treturn np.array(X), np.array(y)"
      ],
      "metadata": {
        "id": "353KGwfC9tTW"
      },
      "execution_count": 4,
      "outputs": []
    },
    {
      "cell_type": "code",
      "source": [
        "# define input sequence\n",
        "timeseries_data = [110, 125, 133, 146, 158, 172, 187, 196, 210]\n",
        "# choose a number of time steps\n",
        "n_steps = 3\n",
        "# split into samples\n",
        "X, y = prepare_data(timeseries_data, n_steps)"
      ],
      "metadata": {
        "id": "XmDSMp_O9yZg"
      },
      "execution_count": 5,
      "outputs": []
    },
    {
      "cell_type": "code",
      "source": [
        "print(X),print(y)\n"
      ],
      "metadata": {
        "colab": {
          "base_uri": "https://localhost:8080/"
        },
        "id": "tYnWFfSL90N2",
        "outputId": "acabc53a-7f5a-4dad-96ef-4d54a9c26d52"
      },
      "execution_count": 6,
      "outputs": [
        {
          "output_type": "stream",
          "name": "stdout",
          "text": [
            "[[110 125 133]\n",
            " [125 133 146]\n",
            " [133 146 158]\n",
            " [146 158 172]\n",
            " [158 172 187]\n",
            " [172 187 196]]\n",
            "[146 158 172 187 196 210]\n"
          ]
        },
        {
          "output_type": "execute_result",
          "data": {
            "text/plain": [
              "(None, None)"
            ]
          },
          "metadata": {},
          "execution_count": 6
        }
      ]
    },
    {
      "cell_type": "code",
      "source": [
        "X.shape"
      ],
      "metadata": {
        "colab": {
          "base_uri": "https://localhost:8080/"
        },
        "id": "uMXxnNCD9522",
        "outputId": "07111a01-7f4e-4c1e-af75-171bea6a253d"
      },
      "execution_count": 7,
      "outputs": [
        {
          "output_type": "execute_result",
          "data": {
            "text/plain": [
              "(6, 3)"
            ]
          },
          "metadata": {},
          "execution_count": 7
        }
      ]
    },
    {
      "cell_type": "code",
      "source": [
        "n_features = 1\n",
        "X = X.reshape((X.shape[0], X.shape[1], n_features))"
      ],
      "metadata": {
        "id": "gpsw96mF-CAC"
      },
      "execution_count": 8,
      "outputs": []
    },
    {
      "cell_type": "markdown",
      "source": [
        "## Building LSTM Model"
      ],
      "metadata": {
        "id": "AXdF3gar-MVx"
      }
    },
    {
      "cell_type": "code",
      "source": [
        "# define model\n",
        "model = Sequential()\n",
        "model.add(LSTM(50, activation='relu', return_sequences=False, input_shape=(n_steps, n_features)))\n",
        "model.add(Dense(1))"
      ],
      "metadata": {
        "id": "xUCmzCm0-G-q"
      },
      "execution_count": 9,
      "outputs": []
    },
    {
      "cell_type": "code",
      "source": [
        "model.summary()"
      ],
      "metadata": {
        "colab": {
          "base_uri": "https://localhost:8080/"
        },
        "id": "SbHIE_ZV-Rux",
        "outputId": "7ccd438f-3046-47bb-8b35-3232b726cf56"
      },
      "execution_count": 10,
      "outputs": [
        {
          "output_type": "stream",
          "name": "stdout",
          "text": [
            "Model: \"sequential\"\n",
            "_________________________________________________________________\n",
            " Layer (type)                Output Shape              Param #   \n",
            "=================================================================\n",
            " lstm (LSTM)                 (None, 50)                10400     \n",
            "                                                                 \n",
            " dense (Dense)               (None, 1)                 51        \n",
            "                                                                 \n",
            "=================================================================\n",
            "Total params: 10451 (40.82 KB)\n",
            "Trainable params: 10451 (40.82 KB)\n",
            "Non-trainable params: 0 (0.00 Byte)\n",
            "_________________________________________________________________\n"
          ]
        }
      ]
    },
    {
      "cell_type": "code",
      "source": [
        "model.compile(optimizer='adam', loss='mse')\n",
        "# fit model\n",
        "model.fit(X, y, epochs=30, verbose=1)"
      ],
      "metadata": {
        "colab": {
          "base_uri": "https://localhost:8080/"
        },
        "id": "4gTrFL01-lDl",
        "outputId": "3035c114-af4b-4086-aec3-df9e6d4f8aa0"
      },
      "execution_count": 11,
      "outputs": [
        {
          "output_type": "stream",
          "name": "stdout",
          "text": [
            "Epoch 1/30\n",
            "1/1 [==============================] - 2s 2s/step - loss: 30442.9316\n",
            "Epoch 2/30\n",
            "1/1 [==============================] - 0s 11ms/step - loss: 29478.2480\n",
            "Epoch 3/30\n",
            "1/1 [==============================] - 0s 14ms/step - loss: 28338.6348\n",
            "Epoch 4/30\n",
            "1/1 [==============================] - 0s 11ms/step - loss: 27221.7129\n",
            "Epoch 5/30\n",
            "1/1 [==============================] - 0s 16ms/step - loss: 26318.6543\n",
            "Epoch 6/30\n",
            "1/1 [==============================] - 0s 15ms/step - loss: 25606.1348\n",
            "Epoch 7/30\n",
            "1/1 [==============================] - 0s 12ms/step - loss: 24993.0781\n",
            "Epoch 8/30\n",
            "1/1 [==============================] - 0s 10ms/step - loss: 24423.5059\n",
            "Epoch 9/30\n",
            "1/1 [==============================] - 0s 9ms/step - loss: 23867.5918\n",
            "Epoch 10/30\n",
            "1/1 [==============================] - 0s 10ms/step - loss: 23309.8203\n",
            "Epoch 11/30\n",
            "1/1 [==============================] - 0s 12ms/step - loss: 22731.1484\n",
            "Epoch 12/30\n",
            "1/1 [==============================] - 0s 12ms/step - loss: 22122.0781\n",
            "Epoch 13/30\n",
            "1/1 [==============================] - 0s 11ms/step - loss: 21474.0918\n",
            "Epoch 14/30\n",
            "1/1 [==============================] - 0s 11ms/step - loss: 20783.5527\n",
            "Epoch 15/30\n",
            "1/1 [==============================] - 0s 11ms/step - loss: 20049.2344\n",
            "Epoch 16/30\n",
            "1/1 [==============================] - 0s 11ms/step - loss: 19293.2617\n",
            "Epoch 17/30\n",
            "1/1 [==============================] - 0s 13ms/step - loss: 18549.2598\n",
            "Epoch 18/30\n",
            "1/1 [==============================] - 0s 11ms/step - loss: 17848.0312\n",
            "Epoch 19/30\n",
            "1/1 [==============================] - 0s 11ms/step - loss: 17206.6152\n",
            "Epoch 20/30\n",
            "1/1 [==============================] - 0s 11ms/step - loss: 16625.1738\n",
            "Epoch 21/30\n",
            "1/1 [==============================] - 0s 11ms/step - loss: 16097.1299\n",
            "Epoch 22/30\n",
            "1/1 [==============================] - 0s 11ms/step - loss: 15606.0742\n",
            "Epoch 23/30\n",
            "1/1 [==============================] - 0s 14ms/step - loss: 15138.4688\n",
            "Epoch 24/30\n",
            "1/1 [==============================] - 0s 10ms/step - loss: 14691.8008\n",
            "Epoch 25/30\n",
            "1/1 [==============================] - 0s 12ms/step - loss: 14275.6553\n",
            "Epoch 26/30\n",
            "1/1 [==============================] - 0s 12ms/step - loss: 13887.8428\n",
            "Epoch 27/30\n",
            "1/1 [==============================] - 0s 9ms/step - loss: 13522.1436\n",
            "Epoch 28/30\n",
            "1/1 [==============================] - 0s 13ms/step - loss: 13168.1533\n",
            "Epoch 29/30\n",
            "1/1 [==============================] - 0s 10ms/step - loss: 12814.5088\n",
            "Epoch 30/30\n",
            "1/1 [==============================] - 0s 12ms/step - loss: 12450.0791\n"
          ]
        },
        {
          "output_type": "execute_result",
          "data": {
            "text/plain": [
              "<keras.src.callbacks.History at 0x7d8db2bcf3d0>"
            ]
          },
          "metadata": {},
          "execution_count": 11
        }
      ]
    },
    {
      "cell_type": "markdown",
      "source": [
        "## Predicting For the next 10 data"
      ],
      "metadata": {
        "id": "hs5aOtdD-1vQ"
      }
    },
    {
      "cell_type": "code",
      "source": [
        "# demonstrate prediction for next 10 days\n",
        "from numpy import array\n",
        "x_input = array([187, 196, 210])\n",
        "temp_input=list(x_input)\n",
        "lst_output=[]\n",
        "i=0\n",
        "while(i<10):\n",
        "\n",
        "    if(len(temp_input)>3):\n",
        "        x_input=array(temp_input[1:])\n",
        "        print(\"{} day input {}\".format(i,x_input))\n",
        "        #print(x_input)\n",
        "        x_input = x_input.reshape((1, n_steps, n_features))\n",
        "        #print(x_input)\n",
        "        yhat = model.predict(x_input, verbose=0)\n",
        "        print(\"{} day output {}\".format(i,yhat))\n",
        "        temp_input.append(yhat[0][0])\n",
        "        temp_input=temp_input[1:]\n",
        "        #print(temp_input)\n",
        "        lst_output.append(yhat[0][0])\n",
        "        i=i+1\n",
        "    else:\n",
        "        x_input = x_input.reshape((1, n_steps, n_features))\n",
        "        yhat = model.predict(x_input, verbose=0)\n",
        "        print(yhat[0])\n",
        "        temp_input.append(yhat[0][0])\n",
        "        lst_output.append(yhat[0][0])\n",
        "        i=i+1\n",
        "\n",
        "\n",
        "print(lst_output)"
      ],
      "metadata": {
        "colab": {
          "base_uri": "https://localhost:8080/"
        },
        "id": "1kPn44C_-uec",
        "outputId": "9adc5a71-1fa1-4f31-f846-e5d58c8d034a"
      },
      "execution_count": 12,
      "outputs": [
        {
          "output_type": "stream",
          "name": "stdout",
          "text": [
            "[89.45551]\n",
            "1 day input [196.       210.        89.455513]\n",
            "1 day output [[54.791153]]\n",
            "2 day input [210.          89.455513    54.79115295]\n",
            "2 day output [[39.351418]]\n",
            "3 day input [89.45551  54.791153 39.351418]\n",
            "3 day output [[22.069527]]\n",
            "4 day input [54.791153 39.351418 22.069527]\n",
            "4 day output [[12.744218]]\n",
            "5 day input [39.351418 22.069527 12.744218]\n",
            "5 day output [[6.82518]]\n",
            "6 day input [22.069527 12.744218  6.82518 ]\n",
            "6 day output [[2.8723223]]\n",
            "7 day input [12.744218   6.82518    2.8723223]\n",
            "7 day output [[1.0062658]]\n",
            "8 day input [6.82518   2.8723223 1.0062658]\n",
            "8 day output [[0.33877045]]\n",
            "9 day input [2.8723223  1.0062658  0.33877045]\n",
            "9 day output [[0.1313253]]\n",
            "[89.45551, 54.791153, 39.351418, 22.069527, 12.744218, 6.82518, 2.8723223, 1.0062658, 0.33877045, 0.1313253]\n"
          ]
        }
      ]
    },
    {
      "cell_type": "code",
      "source": [
        "timeseries_data"
      ],
      "metadata": {
        "colab": {
          "base_uri": "https://localhost:8080/"
        },
        "id": "QonbCzqW1csx",
        "outputId": "126f6991-1ee4-478e-8184-53df4837bdb2"
      },
      "execution_count": 13,
      "outputs": [
        {
          "output_type": "execute_result",
          "data": {
            "text/plain": [
              "[110, 125, 133, 146, 158, 172, 187, 196, 210]"
            ]
          },
          "metadata": {},
          "execution_count": 13
        }
      ]
    },
    {
      "cell_type": "code",
      "source": [
        "len(timeseries_data)"
      ],
      "metadata": {
        "colab": {
          "base_uri": "https://localhost:8080/"
        },
        "id": "siq_DvqV1mVJ",
        "outputId": "b87f1556-82c9-4e71-ed79-dc54ca7d0826"
      },
      "execution_count": 14,
      "outputs": [
        {
          "output_type": "execute_result",
          "data": {
            "text/plain": [
              "9"
            ]
          },
          "metadata": {},
          "execution_count": 14
        }
      ]
    },
    {
      "cell_type": "code",
      "source": [
        "lst_output"
      ],
      "metadata": {
        "colab": {
          "base_uri": "https://localhost:8080/"
        },
        "id": "WN86a3g-1q4T",
        "outputId": "5e52e86c-bf85-4ec8-96eb-ceb976248d5f"
      },
      "execution_count": 15,
      "outputs": [
        {
          "output_type": "execute_result",
          "data": {
            "text/plain": [
              "[89.45551,\n",
              " 54.791153,\n",
              " 39.351418,\n",
              " 22.069527,\n",
              " 12.744218,\n",
              " 6.82518,\n",
              " 2.8723223,\n",
              " 1.0062658,\n",
              " 0.33877045,\n",
              " 0.1313253]"
            ]
          },
          "metadata": {},
          "execution_count": 15
        }
      ]
    },
    {
      "cell_type": "markdown",
      "source": [
        "## Visualizaing The Output"
      ],
      "metadata": {
        "id": "HSuTayV21y9G"
      }
    },
    {
      "cell_type": "code",
      "source": [
        "import matplotlib.pyplot as plt"
      ],
      "metadata": {
        "id": "3ashXP1t1vfo"
      },
      "execution_count": 16,
      "outputs": []
    },
    {
      "cell_type": "code",
      "source": [
        "day_new=np.arange(1,10)\n",
        "day_pred=np.arange(10,20)"
      ],
      "metadata": {
        "id": "Vam95Iys16pa"
      },
      "execution_count": 17,
      "outputs": []
    },
    {
      "cell_type": "code",
      "source": [
        "plt.plot(day_new,timeseries_data)\n",
        "plt.plot(day_pred,lst_output)"
      ],
      "metadata": {
        "id": "sJyqgJee1-S0",
        "colab": {
          "base_uri": "https://localhost:8080/",
          "height": 447
        },
        "outputId": "da123f07-90cf-4a74-951d-8533237caf15"
      },
      "execution_count": 18,
      "outputs": [
        {
          "output_type": "execute_result",
          "data": {
            "text/plain": [
              "[<matplotlib.lines.Line2D at 0x7d8db0182140>]"
            ]
          },
          "metadata": {},
          "execution_count": 18
        },
        {
          "output_type": "display_data",
          "data": {
            "text/plain": [
              "<Figure size 640x480 with 1 Axes>"
            ],
            "image/png": "[encoded data removed]"
          },
          "metadata": {}
        }
      ]
    }
  ]
}