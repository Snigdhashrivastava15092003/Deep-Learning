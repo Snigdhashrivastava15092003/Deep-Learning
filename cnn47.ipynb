{
  "nbformat": 4,
  "nbformat_minor": 0,
  "metadata": {
    "colab": {
      "provenance": []
    },
    "kernelspec": {
      "name": "python3",
      "display_name": "Python 3"
    },
    "language_info": {
      "name": "python"
    }
  },
  "cells": [
    {
      "cell_type": "code",
      "execution_count": null,
      "metadata": {
        "colab": {
          "base_uri": "https://localhost:8080/"
        },
        "id": "b2KhsX9brEOM",
        "outputId": "946640dc-8b21-4885-bd99-daba6910f601"
      },
      "outputs": [
        {
          "output_type": "stream",
          "name": "stdout",
          "text": [
            "Class: valid, Number of images: 2\n",
            "Images:\n",
            "extracted_data/valid/daisy\n",
            "extracted_data/valid/dandelion\n",
            "Class: train, Number of images: 2\n",
            "Images:\n",
            "extracted_data/train/daisy\n",
            "extracted_data/train/dandelion\n",
            "Class: test, Number of images: 2\n",
            "Images:\n",
            "extracted_data/test/daisy\n",
            "extracted_data/test/dandelion\n",
            "Total number of classes: 3\n"
          ]
        }
      ],
      "source": [
        "import zipfile\n",
        "import os\n",
        "\n",
        "# Path to the ZIP file\n",
        "zip_file_path = \"archive (3).zip\"\n",
        "\n",
        "# Directory where you want to extract the contents\n",
        "extracted_folder = \"extracted_data\"\n",
        "\n",
        "# Create a directory if it doesn't exist\n",
        "if not os.path.exists(extracted_folder):\n",
        "    os.makedirs(extracted_folder)\n",
        "\n",
        "# Extract the contents of the ZIP file\n",
        "with zipfile.ZipFile(zip_file_path, 'r') as zip_ref:\n",
        "    zip_ref.extractall(extracted_folder)\n",
        "\n",
        "# List the folders in the extracted directory\n",
        "class_folders = [folder for folder in os.listdir(extracted_folder) if os.path.isdir(os.path.join(extracted_folder, folder))]\n",
        "\n",
        "# Count the number of images in each class folder and list the filenames\n",
        "for folder in class_folders:\n",
        "    class_path = os.path.join(extracted_folder, folder)\n",
        "    images_in_class = os.listdir(class_path)\n",
        "    print(f\"Class: {folder}, Number of images: {len(images_in_class)}\")\n",
        "    print(\"Images:\")\n",
        "    for image in images_in_class:\n",
        "        print(os.path.join(class_path, image))\n",
        "\n",
        "# Optionally, you can print the total number of classes\n",
        "print(f\"Total number of classes: {len(class_folders)}\")\n"
      ]
    }
  ]
}